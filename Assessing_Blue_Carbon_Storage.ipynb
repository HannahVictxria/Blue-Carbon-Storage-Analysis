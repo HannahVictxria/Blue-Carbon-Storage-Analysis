{
 "cells": [
  {
   "cell_type": "markdown",
   "id": "d2a65f1a-8c70-4cc3-a989-b8b9a5aff1c7",
   "metadata": {},
   "source": [
    "# Workbook (part 5) - Environmental Variables and Blue Carbon Storage #"
   ]
  },
  {
   "cell_type": "raw",
   "id": "d8588b5b-3c6d-472c-ab95-f9cca330882a",
   "metadata": {},
   "source": [
    "The following workbook includes real-time environmental data analysis using NOAA Buoy Station 62149. This analysis uses the CRISP-DM framework to investigate the environmental variability over a 48 hour period at Station 62149 (West Sole \"A\" AWS) to understand the physical conditions that may influence blue carbon storage in this region of the North Sea."
   ]
  },
  {
   "cell_type": "code",
   "execution_count": 134,
   "id": "3c255ad2-ef59-4eb4-b6f5-97a93cdd8a34",
   "metadata": {},
   "outputs": [],
   "source": [
    "!pip install pandas requests matplotlib plotly --quiet"
   ]
  },
  {
   "cell_type": "code",
   "execution_count": 135,
   "id": "c5d3db5d-a0ff-47b4-8d96-f9ad515a5e3d",
   "metadata": {},
   "outputs": [],
   "source": [
    "# Import essential libraries\n",
    "import pandas as pd\n",
    "import requests\n",
    "import matplotlib.pyplot as plt\n",
    "import plotly.express as px\n",
    "from plotly.subplots import make_subplots\n",
    "import plotly.graph_objects as go\n",
    "import seaborn as sns\n",
    "from io import StringIO\n",
    "import warnings\n",
    "warnings.filterwarnings('ignore')"
   ]
  },
  {
   "cell_type": "markdown",
   "id": "f39f1b47-7c39-49e1-8ee2-a55d3fe9f9b2",
   "metadata": {},
   "source": [
    "## **Step 1: Environmental Understanding**"
   ]
  },
  {
   "cell_type": "markdown",
   "id": "89068e7e-cfe6-4631-b5ef-628fddd25788",
   "metadata": {},
   "source": [
    "Step 1 paragraph: \n",
    "\n",
    "Station 62149 (West Sole “A” AWS) is located in the southern North Sea near the Humber Estuary, UK. It is situated within a high-sediment shelf sea environment that is critical to blue carbon cycling. Organic matter cycles into this region from estuarine and coastal inputs, where wave and wind dynamics influence carbon burial (Shutler et al., 2019). Wind speed, wave height, and air temperature will therefore be analysed. As the southern North Sea a known carbon sink under pressure from anthropogenic activities, these variables will help to explore how wind and wave conditions influence sediment disturbance in this region, with implications for blue carbon storage (Diesing et al., 2021). "
   ]
  },
  {
   "cell_type": "markdown",
   "id": "634f0bc8-1220-4d1f-a05c-5a05fa4ef311",
   "metadata": {},
   "source": [
    "## **Step 2: Data Understanding**"
   ]
  },
  {
   "cell_type": "markdown",
   "id": "a9342382-9cf0-4a10-b96f-2800039efe43",
   "metadata": {},
   "source": [
    "**2.1. Import the URL for Station 62149 directly**"
   ]
  },
  {
   "cell_type": "markdown",
   "id": "8d25965f-18ca-4cf3-8729-7e471c737d53",
   "metadata": {},
   "source": [
    "Real-time buoy data was retrieved from NOAA: https://www.ndbc.noaa.gov/faq/realtime.shtml "
   ]
  },
  {
   "cell_type": "code",
   "execution_count": 136,
   "id": "791ba7c7-9d23-4682-8606-2ea2a80323a1",
   "metadata": {},
   "outputs": [
    {
     "data": {
      "text/html": [
       "<div>\n",
       "<style scoped>\n",
       "    .dataframe tbody tr th:only-of-type {\n",
       "        vertical-align: middle;\n",
       "    }\n",
       "\n",
       "    .dataframe tbody tr th {\n",
       "        vertical-align: top;\n",
       "    }\n",
       "\n",
       "    .dataframe thead th {\n",
       "        text-align: right;\n",
       "    }\n",
       "</style>\n",
       "<table border=\"1\" class=\"dataframe\">\n",
       "  <thead>\n",
       "    <tr style=\"text-align: right;\">\n",
       "      <th></th>\n",
       "      <th>Year</th>\n",
       "      <th>Month</th>\n",
       "      <th>Day</th>\n",
       "      <th>Hour</th>\n",
       "      <th>Minute</th>\n",
       "      <th>Wind Direction (degT)</th>\n",
       "      <th>Wind Speed (m/s)</th>\n",
       "      <th>Gust Speed (m/s)</th>\n",
       "      <th>Wave Height (m)</th>\n",
       "      <th>Dom Wave Period (sec)</th>\n",
       "      <th>Average Wave Period (sec)</th>\n",
       "      <th>Wave Direction (degT)</th>\n",
       "      <th>Pressure (hPa)</th>\n",
       "      <th>Air Temperature (degC)</th>\n",
       "      <th>Water Temperature (degC)</th>\n",
       "      <th>Dew Point (degC)</th>\n",
       "      <th>Visibility (nmi)</th>\n",
       "      <th>Pressure Tendency (hPa)</th>\n",
       "      <th>Tide (ft)</th>\n",
       "    </tr>\n",
       "  </thead>\n",
       "  <tbody>\n",
       "    <tr>\n",
       "      <th>0</th>\n",
       "      <td>2025</td>\n",
       "      <td>5</td>\n",
       "      <td>28</td>\n",
       "      <td>23</td>\n",
       "      <td>0</td>\n",
       "      <td>170</td>\n",
       "      <td>7.2</td>\n",
       "      <td>NaN</td>\n",
       "      <td>0.4</td>\n",
       "      <td>NaN</td>\n",
       "      <td>NaN</td>\n",
       "      <td>NaN</td>\n",
       "      <td>1019.8</td>\n",
       "      <td>12.5</td>\n",
       "      <td>NaN</td>\n",
       "      <td>10.5</td>\n",
       "      <td>11</td>\n",
       "      <td>-0.1</td>\n",
       "      <td>NaN</td>\n",
       "    </tr>\n",
       "    <tr>\n",
       "      <th>1</th>\n",
       "      <td>2025</td>\n",
       "      <td>5</td>\n",
       "      <td>28</td>\n",
       "      <td>22</td>\n",
       "      <td>0</td>\n",
       "      <td>170</td>\n",
       "      <td>6.7</td>\n",
       "      <td>NaN</td>\n",
       "      <td>0.4</td>\n",
       "      <td>NaN</td>\n",
       "      <td>NaN</td>\n",
       "      <td>NaN</td>\n",
       "      <td>1019.9</td>\n",
       "      <td>11.9</td>\n",
       "      <td>NaN</td>\n",
       "      <td>10.2</td>\n",
       "      <td>11</td>\n",
       "      <td>0.7</td>\n",
       "      <td>NaN</td>\n",
       "    </tr>\n",
       "    <tr>\n",
       "      <th>2</th>\n",
       "      <td>2025</td>\n",
       "      <td>5</td>\n",
       "      <td>28</td>\n",
       "      <td>21</td>\n",
       "      <td>0</td>\n",
       "      <td>170</td>\n",
       "      <td>5.1</td>\n",
       "      <td>NaN</td>\n",
       "      <td>0.4</td>\n",
       "      <td>NaN</td>\n",
       "      <td>NaN</td>\n",
       "      <td>NaN</td>\n",
       "      <td>1020.1</td>\n",
       "      <td>11.8</td>\n",
       "      <td>NaN</td>\n",
       "      <td>10.0</td>\n",
       "      <td>11</td>\n",
       "      <td>1.0</td>\n",
       "      <td>NaN</td>\n",
       "    </tr>\n",
       "    <tr>\n",
       "      <th>3</th>\n",
       "      <td>2025</td>\n",
       "      <td>5</td>\n",
       "      <td>28</td>\n",
       "      <td>20</td>\n",
       "      <td>0</td>\n",
       "      <td>170</td>\n",
       "      <td>4.6</td>\n",
       "      <td>NaN</td>\n",
       "      <td>0.4</td>\n",
       "      <td>NaN</td>\n",
       "      <td>NaN</td>\n",
       "      <td>NaN</td>\n",
       "      <td>1019.9</td>\n",
       "      <td>11.8</td>\n",
       "      <td>NaN</td>\n",
       "      <td>9.4</td>\n",
       "      <td>11</td>\n",
       "      <td>1.1</td>\n",
       "      <td>NaN</td>\n",
       "    </tr>\n",
       "    <tr>\n",
       "      <th>4</th>\n",
       "      <td>2025</td>\n",
       "      <td>5</td>\n",
       "      <td>28</td>\n",
       "      <td>19</td>\n",
       "      <td>0</td>\n",
       "      <td>170</td>\n",
       "      <td>4.1</td>\n",
       "      <td>NaN</td>\n",
       "      <td>0.3</td>\n",
       "      <td>NaN</td>\n",
       "      <td>NaN</td>\n",
       "      <td>NaN</td>\n",
       "      <td>1019.2</td>\n",
       "      <td>11.8</td>\n",
       "      <td>NaN</td>\n",
       "      <td>8.9</td>\n",
       "      <td>11</td>\n",
       "      <td>1.0</td>\n",
       "      <td>NaN</td>\n",
       "    </tr>\n",
       "  </tbody>\n",
       "</table>\n",
       "</div>"
      ],
      "text/plain": [
       "   Year  Month  Day  Hour  Minute  Wind Direction (degT)  Wind Speed (m/s)  \\\n",
       "0  2025      5   28    23       0                    170               7.2   \n",
       "1  2025      5   28    22       0                    170               6.7   \n",
       "2  2025      5   28    21       0                    170               5.1   \n",
       "3  2025      5   28    20       0                    170               4.6   \n",
       "4  2025      5   28    19       0                    170               4.1   \n",
       "\n",
       "   Gust Speed (m/s)  Wave Height (m)  Dom Wave Period (sec)  \\\n",
       "0               NaN              0.4                    NaN   \n",
       "1               NaN              0.4                    NaN   \n",
       "2               NaN              0.4                    NaN   \n",
       "3               NaN              0.4                    NaN   \n",
       "4               NaN              0.3                    NaN   \n",
       "\n",
       "   Average Wave Period (sec)  Wave Direction (degT)  Pressure (hPa)  \\\n",
       "0                        NaN                    NaN          1019.8   \n",
       "1                        NaN                    NaN          1019.9   \n",
       "2                        NaN                    NaN          1020.1   \n",
       "3                        NaN                    NaN          1019.9   \n",
       "4                        NaN                    NaN          1019.2   \n",
       "\n",
       "   Air Temperature (degC)  Water Temperature (degC)  Dew Point (degC)  \\\n",
       "0                    12.5                       NaN              10.5   \n",
       "1                    11.9                       NaN              10.2   \n",
       "2                    11.8                       NaN              10.0   \n",
       "3                    11.8                       NaN               9.4   \n",
       "4                    11.8                       NaN               8.9   \n",
       "\n",
       "   Visibility (nmi)  Pressure Tendency (hPa)  Tide (ft)  \n",
       "0                11                     -0.1        NaN  \n",
       "1                11                      0.7        NaN  \n",
       "2                11                      1.0        NaN  \n",
       "3                11                      1.1        NaN  \n",
       "4                11                      1.0        NaN  "
      ]
     },
     "execution_count": 136,
     "metadata": {},
     "output_type": "execute_result"
    }
   ],
   "source": [
    "# Station 62149 direct URL\n",
    "station_62149_url = 'https://www.ndbc.noaa.gov/data/realtime2/62149.txt'\n",
    "\n",
    "# Fetch the latest data\n",
    "response = requests.get(station_62149_url)\n",
    "raw_data = response.text\n",
    "\n",
    "# Parse the data\n",
    "data_io = StringIO(raw_data)\n",
    "\n",
    "# Load into dataframe\n",
    "df = pd.read_csv(data_io, delimiter=r'\\s+', skiprows=1, header=0, na_values=['MM', 'NaN', ''])\n",
    "\n",
    "df.columns = ['Year', 'Month', 'Day', 'Hour', 'Minute', 'Wind Direction (degT)', 'Wind Speed (m/s)', 'Gust Speed (m/s)', \n",
    "              'Wave Height (m)', 'Dom Wave Period (sec)', 'Average Wave Period (sec)', 'Wave Direction (degT)', 'Pressure (hPa)', \n",
    "              'Air Temperature (degC)', 'Water Temperature (degC)', 'Dew Point (degC)', 'Visibility (nmi)', 'Pressure Tendency (hPa)', 'Tide (ft)']\n",
    "\n",
    "# Preview the data\n",
    "df.head()"
   ]
  },
  {
   "cell_type": "markdown",
   "id": "d58539c9-4c4c-42c0-b4cc-5858cb8b2701",
   "metadata": {},
   "source": [
    "**2.2. Investigate Dataset**"
   ]
  },
  {
   "cell_type": "markdown",
   "id": "c0e09338-d14a-4c21-b941-ed7491ac14ab",
   "metadata": {},
   "source": [
    "Here, the shape of the dataset, its data types, and any missing values are assessed. This ensures that the dataset is ready for further analysis. "
   ]
  },
  {
   "cell_type": "code",
   "execution_count": 137,
   "id": "4acb77df-6404-4c65-8ea4-2bc27d8b6d3f",
   "metadata": {},
   "outputs": [
    {
     "name": "stdout",
     "output_type": "stream",
     "text": [
      "<class 'pandas.core.frame.DataFrame'>\n",
      "RangeIndex: 25 entries, 0 to 24\n",
      "Data columns (total 19 columns):\n",
      " #   Column                     Non-Null Count  Dtype  \n",
      "---  ------                     --------------  -----  \n",
      " 0   Year                       25 non-null     int64  \n",
      " 1   Month                      25 non-null     int64  \n",
      " 2   Day                        25 non-null     int64  \n",
      " 3   Hour                       25 non-null     int64  \n",
      " 4   Minute                     25 non-null     int64  \n",
      " 5   Wind Direction (degT)      25 non-null     int64  \n",
      " 6   Wind Speed (m/s)           25 non-null     float64\n",
      " 7   Gust Speed (m/s)           0 non-null      float64\n",
      " 8   Wave Height (m)            25 non-null     float64\n",
      " 9   Dom Wave Period (sec)      0 non-null      float64\n",
      " 10  Average Wave Period (sec)  0 non-null      float64\n",
      " 11  Wave Direction (degT)      0 non-null      float64\n",
      " 12  Pressure (hPa)             25 non-null     float64\n",
      " 13  Air Temperature (degC)     25 non-null     float64\n",
      " 14  Water Temperature (degC)   0 non-null      float64\n",
      " 15  Dew Point (degC)           25 non-null     float64\n",
      " 16  Visibility (nmi)           25 non-null     int64  \n",
      " 17  Pressure Tendency (hPa)    25 non-null     float64\n",
      " 18  Tide (ft)                  0 non-null      float64\n",
      "dtypes: float64(12), int64(7)\n",
      "memory usage: 3.8 KB\n"
     ]
    },
    {
     "data": {
      "text/plain": [
       "Year                          0\n",
       "Month                         0\n",
       "Day                           0\n",
       "Hour                          0\n",
       "Minute                        0\n",
       "Wind Direction (degT)         0\n",
       "Wind Speed (m/s)              0\n",
       "Gust Speed (m/s)             25\n",
       "Wave Height (m)               0\n",
       "Dom Wave Period (sec)        25\n",
       "Average Wave Period (sec)    25\n",
       "Wave Direction (degT)        25\n",
       "Pressure (hPa)                0\n",
       "Air Temperature (degC)        0\n",
       "Water Temperature (degC)     25\n",
       "Dew Point (degC)              0\n",
       "Visibility (nmi)              0\n",
       "Pressure Tendency (hPa)       0\n",
       "Tide (ft)                    25\n",
       "dtype: int64"
      ]
     },
     "execution_count": 137,
     "metadata": {},
     "output_type": "execute_result"
    }
   ],
   "source": [
    "# Shape of the dataset\n",
    "df.shape\n",
    "\n",
    "# Data types and non-null counts\n",
    "df.info()\n",
    "\n",
    "# Look at missing values\n",
    "df.isna().sum()"
   ]
  },
  {
   "cell_type": "markdown",
   "id": "25d7a126-4332-4f62-976a-1f6dc813bfe2",
   "metadata": {},
   "source": [
    "Step 2 paragraph:\n",
    "\n",
    "The dataset was retrieved using the direct NOAA URL for Station 62149, containing 25 hourly observations across 48 hours. Key environmental variables such as wind speed, wave height, and air temperature were complete and consistent. Six columns had no values, meaning that this information was not recorded by Station 62149 possibly due to equipment constraints or study designs. As they were not relevant to this analysis, imputing the values was unnecessary, and so they would need to be removed from the dataset. The original column titles were further renamed to maintain clarity across the dataset (#yr to Year, for example)."
   ]
  },
  {
   "cell_type": "markdown",
   "id": "68f51093-7579-4d8f-8136-7ea5ab3fee0b",
   "metadata": {},
   "source": [
    "## **Step 3: Data Preparation**"
   ]
  },
  {
   "cell_type": "markdown",
   "id": "944ab8d3-c4d8-4e8e-9fc4-eaf63c1742b2",
   "metadata": {},
   "source": [
    "The dataset was cleaned and prepared in support of later time-series analysis. "
   ]
  },
  {
   "cell_type": "markdown",
   "id": "762086b7-4885-46ec-8213-40d783e35c80",
   "metadata": {},
   "source": [
    "**3.1. Handling missing values**"
   ]
  },
  {
   "cell_type": "code",
   "execution_count": 138,
   "id": "26f6477a-9d16-4b66-8f62-96fcc919068f",
   "metadata": {},
   "outputs": [],
   "source": [
    "# Ensure consistent formatting across null values\n",
    "df.replace([None, 'NaN', ''], pd.NA, inplace=True)"
   ]
  },
  {
   "cell_type": "code",
   "execution_count": 139,
   "id": "4b4aee9e-629a-4b0e-a9eb-ee97df6228a7",
   "metadata": {},
   "outputs": [],
   "source": [
    "# Convert columns to numeric\n",
    "numeric_cols = ['Wind Speed (m/s)', 'Gust Speed (m/s)', 'Wave Height (m)', 'Air Temperature (degC)', 'Water Temperature (degC)', 'Pressure (hPa)']\n",
    "df[numeric_cols] = df[numeric_cols].apply(pd.to_numeric, errors='coerce')"
   ]
  },
  {
   "cell_type": "code",
   "execution_count": 140,
   "id": "23c1652e-3a10-4117-8a38-faf2600b5192",
   "metadata": {},
   "outputs": [
    {
     "name": "stdout",
     "output_type": "stream",
     "text": [
      "<class 'pandas.core.frame.DataFrame'>\n",
      "RangeIndex: 25 entries, 0 to 24\n",
      "Data columns (total 19 columns):\n",
      " #   Column                     Non-Null Count  Dtype  \n",
      "---  ------                     --------------  -----  \n",
      " 0   Year                       25 non-null     int64  \n",
      " 1   Month                      25 non-null     int64  \n",
      " 2   Day                        25 non-null     int64  \n",
      " 3   Hour                       25 non-null     int64  \n",
      " 4   Minute                     25 non-null     int64  \n",
      " 5   Wind Direction (degT)      25 non-null     int64  \n",
      " 6   Wind Speed (m/s)           25 non-null     float64\n",
      " 7   Gust Speed (m/s)           0 non-null      float64\n",
      " 8   Wave Height (m)            25 non-null     float64\n",
      " 9   Dom Wave Period (sec)      0 non-null      float64\n",
      " 10  Average Wave Period (sec)  0 non-null      float64\n",
      " 11  Wave Direction (degT)      0 non-null      float64\n",
      " 12  Pressure (hPa)             25 non-null     float64\n",
      " 13  Air Temperature (degC)     25 non-null     float64\n",
      " 14  Water Temperature (degC)   0 non-null      float64\n",
      " 15  Dew Point (degC)           25 non-null     float64\n",
      " 16  Visibility (nmi)           25 non-null     int64  \n",
      " 17  Pressure Tendency (hPa)    25 non-null     float64\n",
      " 18  Tide (ft)                  0 non-null      float64\n",
      "dtypes: float64(12), int64(7)\n",
      "memory usage: 3.8 KB\n"
     ]
    }
   ],
   "source": [
    "df.info()"
   ]
  },
  {
   "cell_type": "markdown",
   "id": "7ee0c5e3-2f9b-4894-b910-64b41ff2f5fa",
   "metadata": {},
   "source": [
    "Columns with missing values not relevant to this analysis were therefore dropped to create a cleaner dataset. "
   ]
  },
  {
   "cell_type": "code",
   "execution_count": 141,
   "id": "7df8198a-f9f7-4117-b252-3e2a8ff82a99",
   "metadata": {},
   "outputs": [],
   "source": [
    "# Drop columns that have missing values\n",
    "columns_to_drop = ['Gust Speed (m/s)', 'Dom Wave Period (sec)', 'Average Wave Period (sec)', 'Wave Direction (degT)', 'Water Temperature (degC)', 'Tide (ft)']\n",
    "\n",
    "df.drop(columns=columns_to_drop, inplace=True)"
   ]
  },
  {
   "cell_type": "code",
   "execution_count": 142,
   "id": "3414c781-29fd-462d-a5a5-d9de18ee782e",
   "metadata": {},
   "outputs": [
    {
     "name": "stdout",
     "output_type": "stream",
     "text": [
      "<class 'pandas.core.frame.DataFrame'>\n",
      "RangeIndex: 25 entries, 0 to 24\n",
      "Data columns (total 13 columns):\n",
      " #   Column                   Non-Null Count  Dtype  \n",
      "---  ------                   --------------  -----  \n",
      " 0   Year                     25 non-null     int64  \n",
      " 1   Month                    25 non-null     int64  \n",
      " 2   Day                      25 non-null     int64  \n",
      " 3   Hour                     25 non-null     int64  \n",
      " 4   Minute                   25 non-null     int64  \n",
      " 5   Wind Direction (degT)    25 non-null     int64  \n",
      " 6   Wind Speed (m/s)         25 non-null     float64\n",
      " 7   Wave Height (m)          25 non-null     float64\n",
      " 8   Pressure (hPa)           25 non-null     float64\n",
      " 9   Air Temperature (degC)   25 non-null     float64\n",
      " 10  Dew Point (degC)         25 non-null     float64\n",
      " 11  Visibility (nmi)         25 non-null     int64  \n",
      " 12  Pressure Tendency (hPa)  25 non-null     float64\n",
      "dtypes: float64(6), int64(7)\n",
      "memory usage: 2.7 KB\n"
     ]
    }
   ],
   "source": [
    "df.info()"
   ]
  },
  {
   "cell_type": "markdown",
   "id": "baf275b7-72ac-459a-9a8e-19c3ca180670",
   "metadata": {},
   "source": [
    "**3.2. Creating a datetime index**"
   ]
  },
  {
   "cell_type": "markdown",
   "id": "0201b456-41d1-41fe-ab71-f1d7ad90d5c6",
   "metadata": {},
   "source": [
    "A datetime index was generated by combining date and time columns to allow for temporal analysis. "
   ]
  },
  {
   "cell_type": "code",
   "execution_count": 143,
   "id": "08bb9c5c-3f79-4827-b85d-5eea5b26864a",
   "metadata": {},
   "outputs": [],
   "source": [
    "# Create datetime column\n",
    "df['timestamp'] = pd.to_datetime(df[['Year', 'Month', 'Day', 'Hour', 'Minute']])\n",
    "df.set_index('timestamp', inplace=True)\n",
    "\n",
    "# Drop original time columns\n",
    "df.drop(columns=['Year', 'Month', 'Day', 'Hour', 'Minute'], inplace=True, errors='ignore')"
   ]
  },
  {
   "cell_type": "code",
   "execution_count": 144,
   "id": "311044e6-17cd-4a55-893b-f4c46e9d0496",
   "metadata": {},
   "outputs": [
    {
     "data": {
      "text/html": [
       "<div>\n",
       "<style scoped>\n",
       "    .dataframe tbody tr th:only-of-type {\n",
       "        vertical-align: middle;\n",
       "    }\n",
       "\n",
       "    .dataframe tbody tr th {\n",
       "        vertical-align: top;\n",
       "    }\n",
       "\n",
       "    .dataframe thead th {\n",
       "        text-align: right;\n",
       "    }\n",
       "</style>\n",
       "<table border=\"1\" class=\"dataframe\">\n",
       "  <thead>\n",
       "    <tr style=\"text-align: right;\">\n",
       "      <th></th>\n",
       "      <th>Wind Direction (degT)</th>\n",
       "      <th>Wind Speed (m/s)</th>\n",
       "      <th>Wave Height (m)</th>\n",
       "      <th>Pressure (hPa)</th>\n",
       "      <th>Air Temperature (degC)</th>\n",
       "      <th>Dew Point (degC)</th>\n",
       "      <th>Visibility (nmi)</th>\n",
       "      <th>Pressure Tendency (hPa)</th>\n",
       "    </tr>\n",
       "    <tr>\n",
       "      <th>timestamp</th>\n",
       "      <th></th>\n",
       "      <th></th>\n",
       "      <th></th>\n",
       "      <th></th>\n",
       "      <th></th>\n",
       "      <th></th>\n",
       "      <th></th>\n",
       "      <th></th>\n",
       "    </tr>\n",
       "  </thead>\n",
       "  <tbody>\n",
       "    <tr>\n",
       "      <th>2025-05-28 23:00:00</th>\n",
       "      <td>170</td>\n",
       "      <td>7.2</td>\n",
       "      <td>0.4</td>\n",
       "      <td>1019.8</td>\n",
       "      <td>12.5</td>\n",
       "      <td>10.5</td>\n",
       "      <td>11</td>\n",
       "      <td>-0.1</td>\n",
       "    </tr>\n",
       "    <tr>\n",
       "      <th>2025-05-28 22:00:00</th>\n",
       "      <td>170</td>\n",
       "      <td>6.7</td>\n",
       "      <td>0.4</td>\n",
       "      <td>1019.9</td>\n",
       "      <td>11.9</td>\n",
       "      <td>10.2</td>\n",
       "      <td>11</td>\n",
       "      <td>0.7</td>\n",
       "    </tr>\n",
       "    <tr>\n",
       "      <th>2025-05-28 21:00:00</th>\n",
       "      <td>170</td>\n",
       "      <td>5.1</td>\n",
       "      <td>0.4</td>\n",
       "      <td>1020.1</td>\n",
       "      <td>11.8</td>\n",
       "      <td>10.0</td>\n",
       "      <td>11</td>\n",
       "      <td>1.0</td>\n",
       "    </tr>\n",
       "    <tr>\n",
       "      <th>2025-05-28 20:00:00</th>\n",
       "      <td>170</td>\n",
       "      <td>4.6</td>\n",
       "      <td>0.4</td>\n",
       "      <td>1019.9</td>\n",
       "      <td>11.8</td>\n",
       "      <td>9.4</td>\n",
       "      <td>11</td>\n",
       "      <td>1.1</td>\n",
       "    </tr>\n",
       "    <tr>\n",
       "      <th>2025-05-28 19:00:00</th>\n",
       "      <td>170</td>\n",
       "      <td>4.1</td>\n",
       "      <td>0.3</td>\n",
       "      <td>1019.2</td>\n",
       "      <td>11.8</td>\n",
       "      <td>8.9</td>\n",
       "      <td>11</td>\n",
       "      <td>1.0</td>\n",
       "    </tr>\n",
       "  </tbody>\n",
       "</table>\n",
       "</div>"
      ],
      "text/plain": [
       "                     Wind Direction (degT)  Wind Speed (m/s)  Wave Height (m)  \\\n",
       "timestamp                                                                       \n",
       "2025-05-28 23:00:00                    170               7.2              0.4   \n",
       "2025-05-28 22:00:00                    170               6.7              0.4   \n",
       "2025-05-28 21:00:00                    170               5.1              0.4   \n",
       "2025-05-28 20:00:00                    170               4.6              0.4   \n",
       "2025-05-28 19:00:00                    170               4.1              0.3   \n",
       "\n",
       "                     Pressure (hPa)  Air Temperature (degC)  Dew Point (degC)  \\\n",
       "timestamp                                                                       \n",
       "2025-05-28 23:00:00          1019.8                    12.5              10.5   \n",
       "2025-05-28 22:00:00          1019.9                    11.9              10.2   \n",
       "2025-05-28 21:00:00          1020.1                    11.8              10.0   \n",
       "2025-05-28 20:00:00          1019.9                    11.8               9.4   \n",
       "2025-05-28 19:00:00          1019.2                    11.8               8.9   \n",
       "\n",
       "                     Visibility (nmi)  Pressure Tendency (hPa)  \n",
       "timestamp                                                       \n",
       "2025-05-28 23:00:00                11                     -0.1  \n",
       "2025-05-28 22:00:00                11                      0.7  \n",
       "2025-05-28 21:00:00                11                      1.0  \n",
       "2025-05-28 20:00:00                11                      1.1  \n",
       "2025-05-28 19:00:00                11                      1.0  "
      ]
     },
     "execution_count": 144,
     "metadata": {},
     "output_type": "execute_result"
    }
   ],
   "source": [
    "df.head()"
   ]
  },
  {
   "cell_type": "markdown",
   "id": "a4e1d84d-6c76-48d5-a8cc-921da5fe9237",
   "metadata": {},
   "source": [
    "Step 3 paragraph:\n",
    "\n",
    "The dataset was cleaned by first standardising missing values and converting relevant columns to numeric types. As previously mentioned, variables with entirely missing values were dropped to reduce noise and improve clarity. A datetime index was created by combining the data and time columns. This was essential for visualising hourly changes in the environmental conditions. The final dataset therefore includes only complete, relevant variables such as wind speed, wave height, and air temperature. This enables a more accurate time-series analysis and correlation analysis over the 48 hours. "
   ]
  },
  {
   "cell_type": "markdown",
   "id": "1e4ac77b-a734-4466-bda7-7f1e6790c077",
   "metadata": {},
   "source": [
    "## **Step 4: Modelling**"
   ]
  },
  {
   "cell_type": "markdown",
   "id": "d97c6607-4619-4fbc-8fa5-91869897c3e3",
   "metadata": {},
   "source": [
    "To explore how the key variables (wind speed, wave height, and air temperature) interact with one another, summary statistics were calculated and relationships visualised."
   ]
  },
  {
   "cell_type": "markdown",
   "id": "7cd27920-9d3c-4c2c-9e7b-cafc04160d49",
   "metadata": {},
   "source": [
    "**4.1. Exploratory Data Analysis (EDA)**"
   ]
  },
  {
   "cell_type": "code",
   "execution_count": 145,
   "id": "0729fed1-ccc8-48c1-af99-932e4953403a",
   "metadata": {},
   "outputs": [
    {
     "data": {
      "text/html": [
       "<div>\n",
       "<style scoped>\n",
       "    .dataframe tbody tr th:only-of-type {\n",
       "        vertical-align: middle;\n",
       "    }\n",
       "\n",
       "    .dataframe tbody tr th {\n",
       "        vertical-align: top;\n",
       "    }\n",
       "\n",
       "    .dataframe thead th {\n",
       "        text-align: right;\n",
       "    }\n",
       "</style>\n",
       "<table border=\"1\" class=\"dataframe\">\n",
       "  <thead>\n",
       "    <tr style=\"text-align: right;\">\n",
       "      <th></th>\n",
       "      <th>Wind Speed (m/s)</th>\n",
       "      <th>Wave Height (m)</th>\n",
       "      <th>Air Temperature (degC)</th>\n",
       "    </tr>\n",
       "  </thead>\n",
       "  <tbody>\n",
       "    <tr>\n",
       "      <th>count</th>\n",
       "      <td>25.00000</td>\n",
       "      <td>25.000000</td>\n",
       "      <td>25.00000</td>\n",
       "    </tr>\n",
       "    <tr>\n",
       "      <th>mean</th>\n",
       "      <td>3.71600</td>\n",
       "      <td>0.448000</td>\n",
       "      <td>13.02400</td>\n",
       "    </tr>\n",
       "    <tr>\n",
       "      <th>std</th>\n",
       "      <td>1.46506</td>\n",
       "      <td>0.058595</td>\n",
       "      <td>1.97279</td>\n",
       "    </tr>\n",
       "    <tr>\n",
       "      <th>min</th>\n",
       "      <td>1.00000</td>\n",
       "      <td>0.300000</td>\n",
       "      <td>11.10000</td>\n",
       "    </tr>\n",
       "    <tr>\n",
       "      <th>25%</th>\n",
       "      <td>3.10000</td>\n",
       "      <td>0.400000</td>\n",
       "      <td>11.40000</td>\n",
       "    </tr>\n",
       "    <tr>\n",
       "      <th>50%</th>\n",
       "      <td>3.60000</td>\n",
       "      <td>0.500000</td>\n",
       "      <td>12.10000</td>\n",
       "    </tr>\n",
       "    <tr>\n",
       "      <th>75%</th>\n",
       "      <td>4.10000</td>\n",
       "      <td>0.500000</td>\n",
       "      <td>14.30000</td>\n",
       "    </tr>\n",
       "    <tr>\n",
       "      <th>max</th>\n",
       "      <td>7.20000</td>\n",
       "      <td>0.500000</td>\n",
       "      <td>17.30000</td>\n",
       "    </tr>\n",
       "  </tbody>\n",
       "</table>\n",
       "</div>"
      ],
      "text/plain": [
       "       Wind Speed (m/s)  Wave Height (m)  Air Temperature (degC)\n",
       "count          25.00000        25.000000                25.00000\n",
       "mean            3.71600         0.448000                13.02400\n",
       "std             1.46506         0.058595                 1.97279\n",
       "min             1.00000         0.300000                11.10000\n",
       "25%             3.10000         0.400000                11.40000\n",
       "50%             3.60000         0.500000                12.10000\n",
       "75%             4.10000         0.500000                14.30000\n",
       "max             7.20000         0.500000                17.30000"
      ]
     },
     "execution_count": 145,
     "metadata": {},
     "output_type": "execute_result"
    }
   ],
   "source": [
    "# Summary statistics for key variables\n",
    "df[['Wind Speed (m/s)', 'Wave Height (m)', 'Air Temperature (degC)']].describe()"
   ]
  },
  {
   "cell_type": "markdown",
   "id": "9e0e24d9-013c-4ce4-a86c-43c3d84fb113",
   "metadata": {},
   "source": [
    "**4.2. Visualise Environmental Trends**"
   ]
  },
  {
   "cell_type": "markdown",
   "id": "6067b512-2323-4352-b441-a600e5d2b80d",
   "metadata": {},
   "source": [
    "The following plots show how wind speed, wave height, and air temperature change over the 48 hour time period "
   ]
  },
  {
   "cell_type": "code",
   "execution_count": 146,
   "id": "fb2f2cbb-d7e1-457a-b8dc-3f393bd12c97",
   "metadata": {},
   "outputs": [
    {
     "data": {
      "image/png": "[encoded data removed]",
      "text/plain": [
       "<Figure size 1200x600 with 1 Axes>"
      ]
     },
     "metadata": {},
     "output_type": "display_data"
    },
    {
     "data": {
      "image/png": "[encoded data removed]",
      "text/plain": [
       "<Figure size 1200x600 with 1 Axes>"
      ]
     },
     "metadata": {},
     "output_type": "display_data"
    },
    {
     "data": {
      "image/png": "[encoded data removed]",
      "text/plain": [
       "<Figure size 1200x600 with 1 Axes>"
      ]
     },
     "metadata": {},
     "output_type": "display_data"
    }
   ],
   "source": [
    "# Plot wind speed\n",
    "plt.figure(figsize=(12, 6))\n",
    "plt.plot(df.index, df['Wind Speed (m/s)'], label='Wind Speed (m/s)', color='b')\n",
    "plt.title('Wind Speed Over Time')\n",
    "plt.xlabel('Date')\n",
    "plt.ylabel('Wind Speed (m/s)')\n",
    "plt.legend()\n",
    "plt.grid(True)\n",
    "plt.show()\n",
    "\n",
    "# Plot wave height\n",
    "plt.figure(figsize=(12, 6))\n",
    "plt.plot(df.index, df['Wave Height (m)'], label='Wave Height (m)', color='g')\n",
    "plt.title('Wave Height Over Time')\n",
    "plt.xlabel('Date')\n",
    "plt.ylabel('Wave Height (m)')\n",
    "plt.legend()\n",
    "plt.grid(True)\n",
    "plt.show()\n",
    "\n",
    "# Plot air temperature\n",
    "plt.figure(figsize=(12, 6))\n",
    "plt.plot(df.index, df['Air Temperature (degC)'], label='Air Temperature (°C)', color='r')\n",
    "plt.title('Air Temperature Over Time')\n",
    "plt.xlabel('Date')\n",
    "plt.ylabel('Air Temperature (°C)')\n",
    "plt.legend()\n",
    "plt.grid(True)\n",
    "plt.show()"
   ]
  },
  {
   "cell_type": "markdown",
   "id": "9dbb82aa-4385-4033-a389-e855669a30ac",
   "metadata": {},
   "source": [
    "**4.3. Correlation Matrix**"
   ]
  },
  {
   "cell_type": "markdown",
   "id": "15319422-a91c-4e0a-a8ef-48256a165228",
   "metadata": {},
   "source": [
    "Here, the relationships between the key variables have been examined to determime if there are any signficant relationships that may help to understand carbon cycling and sediment disturbance patterns."
   ]
  },
  {
   "cell_type": "code",
   "execution_count": 147,
   "id": "b3b44022-a441-4436-a858-ef309d915632",
   "metadata": {},
   "outputs": [
    {
     "data": {
      "image/png": "[encoded data removed]",
      "text/plain": [
       "<Figure size 800x600 with 2 Axes>"
      ]
     },
     "metadata": {},
     "output_type": "display_data"
    }
   ],
   "source": [
    "# Compute the correlation matrix between the key variables\n",
    "correlation_matrix = df[['Wind Speed (m/s)', 'Wave Height (m)', 'Air Temperature (degC)']].corr()\n",
    "\n",
    "# Visualise using a heatmap\n",
    "plt.figure(figsize=(8, 6))\n",
    "sns.heatmap(correlation_matrix, annot=True, cmap='viridis', fmt='.2f')\n",
    "plt.title('Correlation Between Environmental Variables')\n",
    "plt.show()"
   ]
  },
  {
   "cell_type": "markdown",
   "id": "a0631b2c-dd99-4847-9953-70ad88d996c5",
   "metadata": {},
   "source": [
    "**4.4. Linear Regression**"
   ]
  },
  {
   "cell_type": "markdown",
   "id": "6332328b-7892-478d-bb6b-0b3d25a96708",
   "metadata": {},
   "source": [
    "A linear regression model has been fitted between each of the variables."
   ]
  },
  {
   "cell_type": "code",
   "execution_count": 148,
   "id": "0004a787-1025-437e-9dc0-e1212be37cbb",
   "metadata": {},
   "outputs": [
    {
     "data": {
      "text/plain": [
       "<seaborn.axisgrid.FacetGrid at 0x7fb124d24510>"
      ]
     },
     "execution_count": 148,
     "metadata": {},
     "output_type": "execute_result"
    },
    {
     "data": {
      "image/png": "[encoded data removed]",
      "text/plain": [
       "<Figure size 500x500 with 1 Axes>"
      ]
     },
     "metadata": {},
     "output_type": "display_data"
    }
   ],
   "source": [
    "sns.lmplot(x='Air Temperature (degC)', y='Wind Speed (m/s)', data=df)"
   ]
  },
  {
   "cell_type": "code",
   "execution_count": 149,
   "id": "25135af1-7e23-446c-a40c-9a91fe61fa1d",
   "metadata": {},
   "outputs": [
    {
     "data": {
      "text/plain": [
       "<seaborn.axisgrid.FacetGrid at 0x7fb124d1bf10>"
      ]
     },
     "execution_count": 149,
     "metadata": {},
     "output_type": "execute_result"
    },
    {
     "data": {
      "image/png": "[encoded data removed]",
      "text/plain": [
       "<Figure size 500x500 with 1 Axes>"
      ]
     },
     "metadata": {},
     "output_type": "display_data"
    }
   ],
   "source": [
    "sns.lmplot(x='Air Temperature (degC)', y='Wave Height (m)', data=df)"
   ]
  },
  {
   "cell_type": "code",
   "execution_count": 150,
   "id": "3a8c0455-e0c2-47cd-8b7e-acfd53011bc7",
   "metadata": {},
   "outputs": [
    {
     "data": {
      "text/plain": [
       "<seaborn.axisgrid.FacetGrid at 0x7fb124d64510>"
      ]
     },
     "execution_count": 150,
     "metadata": {},
     "output_type": "execute_result"
    },
    {
     "data": {
      "image/png": "[encoded data removed]",
      "text/plain": [
       "<Figure size 500x500 with 1 Axes>"
      ]
     },
     "metadata": {},
     "output_type": "display_data"
    }
   ],
   "source": [
    "sns.lmplot(x='Wind Speed (m/s)', y='Wave Height (m)', data=df)"
   ]
  },
  {
   "cell_type": "code",
   "execution_count": 151,
   "id": "6ad56dee-a2ae-4a67-9f75-5029c518ebbf",
   "metadata": {},
   "outputs": [
    {
     "name": "stdout",
     "output_type": "stream",
     "text": [
      "                         Wind Direction (degT)  Wind Speed (m/s)  \\\n",
      "Wind Direction (degT)                 1.000000          0.051536   \n",
      "Wind Speed (m/s)                      0.051536          1.000000   \n",
      "Wave Height (m)                       0.441973         -0.043295   \n",
      "Pressure (hPa)                       -0.545355          0.163938   \n",
      "Air Temperature (degC)                0.285938         -0.057948   \n",
      "Dew Point (degC)                      0.445641          0.449265   \n",
      "Visibility (nmi)                     -0.166905          0.029841   \n",
      "Pressure Tendency (hPa)               0.461193         -0.251589   \n",
      "\n",
      "                         Wave Height (m)  Pressure (hPa)  \\\n",
      "Wind Direction (degT)           0.441973       -0.545355   \n",
      "Wind Speed (m/s)               -0.043295        0.163938   \n",
      "Wave Height (m)                 1.000000       -0.706420   \n",
      "Pressure (hPa)                 -0.706420        1.000000   \n",
      "Air Temperature (degC)         -0.147354        0.345736   \n",
      "Dew Point (degC)                0.500038       -0.668380   \n",
      "Visibility (nmi)               -0.120067        0.333696   \n",
      "Pressure Tendency (hPa)         0.138552        0.013306   \n",
      "\n",
      "                         Air Temperature (degC)  Dew Point (degC)  \\\n",
      "Wind Direction (degT)                  0.285938          0.445641   \n",
      "Wind Speed (m/s)                      -0.057948          0.449265   \n",
      "Wave Height (m)                       -0.147354          0.500038   \n",
      "Pressure (hPa)                         0.345736         -0.668380   \n",
      "Air Temperature (degC)                 1.000000         -0.299057   \n",
      "Dew Point (degC)                      -0.299057          1.000000   \n",
      "Visibility (nmi)                       0.259310         -0.344891   \n",
      "Pressure Tendency (hPa)                0.831946         -0.123963   \n",
      "\n",
      "                         Visibility (nmi)  Pressure Tendency (hPa)  \n",
      "Wind Direction (degT)           -0.166905                 0.461193  \n",
      "Wind Speed (m/s)                 0.029841                -0.251589  \n",
      "Wave Height (m)                 -0.120067                 0.138552  \n",
      "Pressure (hPa)                   0.333696                 0.013306  \n",
      "Air Temperature (degC)           0.259310                 0.831946  \n",
      "Dew Point (degC)                -0.344891                -0.123963  \n",
      "Visibility (nmi)                 1.000000                 0.094588  \n",
      "Pressure Tendency (hPa)          0.094588                 1.000000  \n"
     ]
    }
   ],
   "source": [
    "print(df.corr())"
   ]
  },
  {
   "cell_type": "markdown",
   "id": "8f8bc3d9-ad51-4426-8e80-6f0d59a60e19",
   "metadata": {},
   "source": [
    "Step 4 paragraph:\n",
    "\n",
    "A combination of time series plots, correlation analysis, and linear regression was used to explore relationships between environmental variables linked to sediment disturbance and blue carbon cycling. In this 48-hour period, all correlations between wind speed, wave height, and air temperature were weak (R < ±0.15), indicating little statistical association during the observed period. Linear regression also showed no meaningful trend between air temperature and wave height. This outcome may be expected, as the short timeframe likely limits the ability to detect more consistent patterns or episodic disturbance events. Whilst no strong relationships were identified, the modelling techniques applied are still useful tools for larger or more variable datasets. This pilot study supports the use of exploratory methods to gain a foundational understanding of the physical processes influencing carbon storage in coastal shelf systems."
   ]
  },
  {
   "cell_type": "markdown",
   "id": "625cf97d-e945-4cbe-be12-b975df0529e2",
   "metadata": {},
   "source": [
    "## **Step 5: Evaluation**"
   ]
  },
  {
   "cell_type": "markdown",
   "id": "979cd719-f47d-448c-a270-92693ef0372f",
   "metadata": {},
   "source": [
    "Overall, this study provides a strong foundational understanding of environmental variability near the Humber Estuary. Time series, correlation, and regression techniques were applied to explore how wind speed, wave height, and air temperature may relate to sediment disturbance. No statistically meaningful relationships were found between the key variables, however. This can be attributed to the limited 48-hour timeframe, which is insufficient for capturing long-term patterns or seasonal variations. Similarly, it limits the strength and generalisability of the findings. Additionally, the absence of variables such as water temperature restricted the ecological context. For example, temperature influences the capacity of ecosystems like seagrass meadows to retain carbon (Macreadie and Hardy, 2018). A complete assessment of blue carbon requires a broader set of environmental inputs. Future studies requires data spanning longer timeframes, multi-station comparisons, and incorporated trawling or disturbance data to better contextualise carbon cycling. Outside of its limitations, this study does well to highlight the value of exploratory statistical tools in assessing real-time environmental conditions that may influence blue carbon storage."
   ]
  },
  {
   "cell_type": "markdown",
   "id": "90dbf823-be04-4203-87a6-79961b0d9141",
   "metadata": {},
   "source": [
    "## **Step 6: Deployment**"
   ]
  },
  {
   "cell_type": "markdown",
   "id": "811d0f12-4f74-4103-b8bd-a77176981189",
   "metadata": {},
   "source": [
    "The dashboards below include three interactive plots of wind speed, wave height, and air temperature. This allows for real time exploration of environmental variables near the Humber Estuary."
   ]
  },
  {
   "cell_type": "markdown",
   "id": "b67c10fd-481a-4abc-b3e1-db7ce2305100",
   "metadata": {},
   "source": [
    "**6.1. Interactive Plots for Key Variables**"
   ]
  },
  {
   "cell_type": "code",
   "execution_count": 152,
   "id": "a29f1ad1-b027-4282-9063-02cfefe9f49a",
   "metadata": {},
   "outputs": [
    {
     "data": {
      "application/vnd.plotly.v1+json": {
       "config": {
        "plotlyServerURL": "https://plot.ly"
       },
       "data": [
        {
         "mode": "lines",
         "name": "Wind Speed",
         "type": "scatter",
         "x": [
          "2025-05-28T23:00:00",
          "2025-05-28T22:00:00",
          "2025-05-28T21:00:00",
          "2025-05-28T20:00:00",
          "2025-05-28T19:00:00",
          "2025-05-28T18:00:00",
          "2025-05-28T17:00:00",
          "2025-05-28T16:00:00",
          "2025-05-28T15:00:00",
          "2025-05-28T14:00:00",
          "2025-05-28T13:00:00",
          "2025-05-28T12:00:00",
          "2025-05-28T11:00:00",
          "2025-05-28T10:00:00",
          "2025-05-28T09:00:00",
          "2025-05-28T08:00:00",
          "2025-05-28T07:00:00",
          "2025-05-28T06:00:00",
          "2025-05-28T05:00:00",
          "2025-05-28T04:00:00",
          "2025-05-28T03:00:00",
          "2025-05-28T02:00:00",
          "2025-05-28T01:00:00",
          "2025-05-28T00:00:00",
          "2025-05-27T23:00:00"
         ],
         "xaxis": "x",
         "y": [
          7.2,
          6.7,
          5.1,
          4.6,
          4.1,
          2.6,
          1,
          1,
          1,
          3.1,
          4.1,
          4.1,
          4.1,
          4.6,
          4.6,
          4.1,
          4.1,
          3.6,
          3.1,
          3.1,
          3.6,
          3.6,
          3.6,
          3.1,
          3.1
         ],
         "yaxis": "y"
        },
        {
         "mode": "lines",
         "name": "Wave Height",
         "type": "scatter",
         "x": [
          "2025-05-28T23:00:00",
          "2025-05-28T22:00:00",
          "2025-05-28T21:00:00",
          "2025-05-28T20:00:00",
          "2025-05-28T19:00:00",
          "2025-05-28T18:00:00",
          "2025-05-28T17:00:00",
          "2025-05-28T16:00:00",
          "2025-05-28T15:00:00",
          "2025-05-28T14:00:00",
          "2025-05-28T13:00:00",
          "2025-05-28T12:00:00",
          "2025-05-28T11:00:00",
          "2025-05-28T10:00:00",
          "2025-05-28T09:00:00",
          "2025-05-28T08:00:00",
          "2025-05-28T07:00:00",
          "2025-05-28T06:00:00",
          "2025-05-28T05:00:00",
          "2025-05-28T04:00:00",
          "2025-05-28T03:00:00",
          "2025-05-28T02:00:00",
          "2025-05-28T01:00:00",
          "2025-05-28T00:00:00",
          "2025-05-27T23:00:00"
         ],
         "xaxis": "x2",
         "y": [
          0.4,
          0.4,
          0.4,
          0.4,
          0.3,
          0.5,
          0.4,
          0.4,
          0.4,
          0.4,
          0.4,
          0.5,
          0.4,
          0.5,
          0.5,
          0.5,
          0.5,
          0.5,
          0.4,
          0.5,
          0.5,
          0.5,
          0.5,
          0.5,
          0.5
         ],
         "yaxis": "y2"
        },
        {
         "mode": "lines",
         "name": "Air Temperature",
         "type": "scatter",
         "x": [
          "2025-05-28T23:00:00",
          "2025-05-28T22:00:00",
          "2025-05-28T21:00:00",
          "2025-05-28T20:00:00",
          "2025-05-28T19:00:00",
          "2025-05-28T18:00:00",
          "2025-05-28T17:00:00",
          "2025-05-28T16:00:00",
          "2025-05-28T15:00:00",
          "2025-05-28T14:00:00",
          "2025-05-28T13:00:00",
          "2025-05-28T12:00:00",
          "2025-05-28T11:00:00",
          "2025-05-28T10:00:00",
          "2025-05-28T09:00:00",
          "2025-05-28T08:00:00",
          "2025-05-28T07:00:00",
          "2025-05-28T06:00:00",
          "2025-05-28T05:00:00",
          "2025-05-28T04:00:00",
          "2025-05-28T03:00:00",
          "2025-05-28T02:00:00",
          "2025-05-28T01:00:00",
          "2025-05-28T00:00:00",
          "2025-05-27T23:00:00"
         ],
         "xaxis": "x3",
         "y": [
          12.5,
          11.9,
          11.8,
          11.8,
          11.8,
          12.3,
          13.4,
          14.2,
          14.3,
          15.6,
          16.1,
          17.3,
          16.8,
          15.6,
          14.6,
          13.4,
          12.1,
          11.5,
          11.4,
          11.2,
          11.2,
          11.2,
          11.1,
          11.2,
          11.3
         ],
         "yaxis": "y3"
        }
       ],
       "layout": {
        "annotations": [
         {
          "font": {
           "size": 16
          },
          "showarrow": false,
          "text": "Wind Speed (m/s)",
          "x": 0.5,
          "xanchor": "center",
          "xref": "paper",
          "y": 1,
          "yanchor": "bottom",
          "yref": "paper"
         },
         {
          "font": {
           "size": 16
          },
          "showarrow": false,
          "text": "Wave Height (m)",
          "x": 0.5,
          "xanchor": "center",
          "xref": "paper",
          "y": 0.6111111111111112,
          "yanchor": "bottom",
          "yref": "paper"
         },
         {
          "font": {
           "size": 16
          },
          "showarrow": false,
          "text": "Air Temperature (°C)",
          "x": 0.5,
          "xanchor": "center",
          "xref": "paper",
          "y": 0.22222222222222224,
          "yanchor": "bottom",
          "yref": "paper"
         }
        ],
        "height": 800,
        "template": {
         "data": {
          "bar": [
           {
            "error_x": {
             "color": "#f2f5fa"
            },
            "error_y": {
             "color": "#f2f5fa"
            },
            "marker": {
             "line": {
              "color": "rgb(17,17,17)",
              "width": 0.5
             },
             "pattern": {
              "fillmode": "overlay",
              "size": 10,
              "solidity": 0.2
             }
            },
            "type": "bar"
           }
          ],
          "barpolar": [
           {
            "marker": {
             "line": {
              "color": "rgb(17,17,17)",
              "width": 0.5
             },
             "pattern": {
              "fillmode": "overlay",
              "size": 10,
              "solidity": 0.2
             }
            },
            "type": "barpolar"
           }
          ],
          "carpet": [
           {
            "aaxis": {
             "endlinecolor": "#A2B1C6",
             "gridcolor": "#506784",
             "linecolor": "#506784",
             "minorgridcolor": "#506784",
             "startlinecolor": "#A2B1C6"
            },
            "baxis": {
             "endlinecolor": "#A2B1C6",
             "gridcolor": "#506784",
             "linecolor": "#506784",
             "minorgridcolor": "#506784",
             "startlinecolor": "#A2B1C6"
            },
            "type": "carpet"
           }
          ],
          "choropleth": [
           {
            "colorbar": {
             "outlinewidth": 0,
             "ticks": ""
            },
            "type": "choropleth"
           }
          ],
          "contour": [
           {
            "colorbar": {
             "outlinewidth": 0,
             "ticks": ""
            },
            "colorscale": [
             [
              0,
              "#0d0887"
             ],
             [
              0.1111111111111111,
              "#46039f"
             ],
             [
              0.2222222222222222,
              "#7201a8"
             ],
             [
              0.3333333333333333,
              "#9c179e"
             ],
             [
              0.4444444444444444,
              "#bd3786"
             ],
             [
              0.5555555555555556,
              "#d8576b"
             ],
             [
              0.6666666666666666,
              "#ed7953"
             ],
             [
              0.7777777777777778,
              "#fb9f3a"
             ],
             [
              0.8888888888888888,
              "#fdca26"
             ],
             [
              1,
              "#f0f921"
             ]
            ],
            "type": "contour"
           }
          ],
          "contourcarpet": [
           {
            "colorbar": {
             "outlinewidth": 0,
             "ticks": ""
            },
            "type": "contourcarpet"
           }
          ],
          "heatmap": [
           {
            "colorbar": {
             "outlinewidth": 0,
             "ticks": ""
            },
            "colorscale": [
             [
              0,
              "#0d0887"
             ],
             [
              0.1111111111111111,
              "#46039f"
             ],
             [
              0.2222222222222222,
              "#7201a8"
             ],
             [
              0.3333333333333333,
              "#9c179e"
             ],
             [
              0.4444444444444444,
              "#bd3786"
             ],
             [
              0.5555555555555556,
              "#d8576b"
             ],
             [
              0.6666666666666666,
              "#ed7953"
             ],
             [
              0.7777777777777778,
              "#fb9f3a"
             ],
             [
              0.8888888888888888,
              "#fdca26"
             ],
             [
              1,
              "#f0f921"
             ]
            ],
            "type": "heatmap"
           }
          ],
          "heatmapgl": [
           {
            "colorbar": {
             "outlinewidth": 0,
             "ticks": ""
            },
            "colorscale": [
             [
              0,
              "#0d0887"
             ],
             [
              0.1111111111111111,
              "#46039f"
             ],
             [
              0.2222222222222222,
              "#7201a8"
             ],
             [
              0.3333333333333333,
              "#9c179e"
             ],
             [
              0.4444444444444444,
              "#bd3786"
             ],
             [
              0.5555555555555556,
              "#d8576b"
             ],
             [
              0.6666666666666666,
              "#ed7953"
             ],
             [
              0.7777777777777778,
              "#fb9f3a"
             ],
             [
              0.8888888888888888,
              "#fdca26"
             ],
             [
              1,
              "#f0f921"
             ]
            ],
            "type": "heatmapgl"
           }
          ],
          "histogram": [
           {
            "marker": {
             "pattern": {
              "fillmode": "overlay",
              "size": 10,
              "solidity": 0.2
             }
            },
            "type": "histogram"
           }
          ],
          "histogram2d": [
           {
            "colorbar": {
             "outlinewidth": 0,
             "ticks": ""
            },
            "colorscale": [
             [
              0,
              "#0d0887"
             ],
             [
              0.1111111111111111,
              "#46039f"
             ],
             [
              0.2222222222222222,
              "#7201a8"
             ],
             [
              0.3333333333333333,
              "#9c179e"
             ],
             [
              0.4444444444444444,
              "#bd3786"
             ],
             [
              0.5555555555555556,
              "#d8576b"
             ],
             [
              0.6666666666666666,
              "#ed7953"
             ],
             [
              0.7777777777777778,
              "#fb9f3a"
             ],
             [
              0.8888888888888888,
              "#fdca26"
             ],
             [
              1,
              "#f0f921"
             ]
            ],
            "type": "histogram2d"
           }
          ],
          "histogram2dcontour": [
           {
            "colorbar": {
             "outlinewidth": 0,
             "ticks": ""
            },
            "colorscale": [
             [
              0,
              "#0d0887"
             ],
             [
              0.1111111111111111,
              "#46039f"
             ],
             [
              0.2222222222222222,
              "#7201a8"
             ],
             [
              0.3333333333333333,
              "#9c179e"
             ],
             [
              0.4444444444444444,
              "#bd3786"
             ],
             [
              0.5555555555555556,
              "#d8576b"
             ],
             [
              0.6666666666666666,
              "#ed7953"
             ],
             [
              0.7777777777777778,
              "#fb9f3a"
             ],
             [
              0.8888888888888888,
              "#fdca26"
             ],
             [
              1,
              "#f0f921"
             ]
            ],
            "type": "histogram2dcontour"
           }
          ],
          "mesh3d": [
           {
            "colorbar": {
             "outlinewidth": 0,
             "ticks": ""
            },
            "type": "mesh3d"
           }
          ],
          "parcoords": [
           {
            "line": {
             "colorbar": {
              "outlinewidth": 0,
              "ticks": ""
             }
            },
            "type": "parcoords"
           }
          ],
          "pie": [
           {
            "automargin": true,
            "type": "pie"
           }
          ],
          "scatter": [
           {
            "marker": {
             "line": {
              "color": "#283442"
             }
            },
            "type": "scatter"
           }
          ],
          "scatter3d": [
           {
            "line": {
             "colorbar": {
              "outlinewidth": 0,
              "ticks": ""
             }
            },
            "marker": {
             "colorbar": {
              "outlinewidth": 0,
              "ticks": ""
             }
            },
            "type": "scatter3d"
           }
          ],
          "scattercarpet": [
           {
            "marker": {
             "colorbar": {
              "outlinewidth": 0,
              "ticks": ""
             }
            },
            "type": "scattercarpet"
           }
          ],
          "scattergeo": [
           {
            "marker": {
             "colorbar": {
              "outlinewidth": 0,
              "ticks": ""
             }
            },
            "type": "scattergeo"
           }
          ],
          "scattergl": [
           {
            "marker": {
             "line": {
              "color": "#283442"
             }
            },
            "type": "scattergl"
           }
          ],
          "scattermapbox": [
           {
            "marker": {
             "colorbar": {
              "outlinewidth": 0,
              "ticks": ""
             }
            },
            "type": "scattermapbox"
           }
          ],
          "scatterpolar": [
           {
            "marker": {
             "colorbar": {
              "outlinewidth": 0,
              "ticks": ""
             }
            },
            "type": "scatterpolar"
           }
          ],
          "scatterpolargl": [
           {
            "marker": {
             "colorbar": {
              "outlinewidth": 0,
              "ticks": ""
             }
            },
            "type": "scatterpolargl"
           }
          ],
          "scatterternary": [
           {
            "marker": {
             "colorbar": {
              "outlinewidth": 0,
              "ticks": ""
             }
            },
            "type": "scatterternary"
           }
          ],
          "surface": [
           {
            "colorbar": {
             "outlinewidth": 0,
             "ticks": ""
            },
            "colorscale": [
             [
              0,
              "#0d0887"
             ],
             [
              0.1111111111111111,
              "#46039f"
             ],
             [
              0.2222222222222222,
              "#7201a8"
             ],
             [
              0.3333333333333333,
              "#9c179e"
             ],
             [
              0.4444444444444444,
              "#bd3786"
             ],
             [
              0.5555555555555556,
              "#d8576b"
             ],
             [
              0.6666666666666666,
              "#ed7953"
             ],
             [
              0.7777777777777778,
              "#fb9f3a"
             ],
             [
              0.8888888888888888,
              "#fdca26"
             ],
             [
              1,
              "#f0f921"
             ]
            ],
            "type": "surface"
           }
          ],
          "table": [
           {
            "cells": {
             "fill": {
              "color": "#506784"
             },
             "line": {
              "color": "rgb(17,17,17)"
             }
            },
            "header": {
             "fill": {
              "color": "#2a3f5f"
             },
             "line": {
              "color": "rgb(17,17,17)"
             }
            },
            "type": "table"
           }
          ]
         },
         "layout": {
          "annotationdefaults": {
           "arrowcolor": "#f2f5fa",
           "arrowhead": 0,
           "arrowwidth": 1
          },
          "autotypenumbers": "strict",
          "coloraxis": {
           "colorbar": {
            "outlinewidth": 0,
            "ticks": ""
           }
          },
          "colorscale": {
           "diverging": [
            [
             0,
             "#8e0152"
            ],
            [
             0.1,
             "#c51b7d"
            ],
            [
             0.2,
             "#de77ae"
            ],
            [
             0.3,
             "#f1b6da"
            ],
            [
             0.4,
             "#fde0ef"
            ],
            [
             0.5,
             "#f7f7f7"
            ],
            [
             0.6,
             "#e6f5d0"
            ],
            [
             0.7,
             "#b8e186"
            ],
            [
             0.8,
             "#7fbc41"
            ],
            [
             0.9,
             "#4d9221"
            ],
            [
             1,
             "#276419"
            ]
           ],
           "sequential": [
            [
             0,
             "#0d0887"
            ],
            [
             0.1111111111111111,
             "#46039f"
            ],
            [
             0.2222222222222222,
             "#7201a8"
            ],
            [
             0.3333333333333333,
             "#9c179e"
            ],
            [
             0.4444444444444444,
             "#bd3786"
            ],
            [
             0.5555555555555556,
             "#d8576b"
            ],
            [
             0.6666666666666666,
             "#ed7953"
            ],
            [
             0.7777777777777778,
             "#fb9f3a"
            ],
            [
             0.8888888888888888,
             "#fdca26"
            ],
            [
             1,
             "#f0f921"
            ]
           ],
           "sequentialminus": [
            [
             0,
             "#0d0887"
            ],
            [
             0.1111111111111111,
             "#46039f"
            ],
            [
             0.2222222222222222,
             "#7201a8"
            ],
            [
             0.3333333333333333,
             "#9c179e"
            ],
            [
             0.4444444444444444,
             "#bd3786"
            ],
            [
             0.5555555555555556,
             "#d8576b"
            ],
            [
             0.6666666666666666,
             "#ed7953"
            ],
            [
             0.7777777777777778,
             "#fb9f3a"
            ],
            [
             0.8888888888888888,
             "#fdca26"
            ],
            [
             1,
             "#f0f921"
            ]
           ]
          },
          "colorway": [
           "#636efa",
           "#EF553B",
           "#00cc96",
           "#ab63fa",
           "#FFA15A",
           "#19d3f3",
           "#FF6692",
           "#B6E880",
           "#FF97FF",
           "#FECB52"
          ],
          "font": {
           "color": "#f2f5fa"
          },
          "geo": {
           "bgcolor": "rgb(17,17,17)",
           "lakecolor": "rgb(17,17,17)",
           "landcolor": "rgb(17,17,17)",
           "showlakes": true,
           "showland": true,
           "subunitcolor": "#506784"
          },
          "hoverlabel": {
           "align": "left"
          },
          "hovermode": "closest",
          "mapbox": {
           "style": "dark"
          },
          "paper_bgcolor": "rgb(17,17,17)",
          "plot_bgcolor": "rgb(17,17,17)",
          "polar": {
           "angularaxis": {
            "gridcolor": "#506784",
            "linecolor": "#506784",
            "ticks": ""
           },
           "bgcolor": "rgb(17,17,17)",
           "radialaxis": {
            "gridcolor": "#506784",
            "linecolor": "#506784",
            "ticks": ""
           }
          },
          "scene": {
           "xaxis": {
            "backgroundcolor": "rgb(17,17,17)",
            "gridcolor": "#506784",
            "gridwidth": 2,
            "linecolor": "#506784",
            "showbackground": true,
            "ticks": "",
            "zerolinecolor": "#C8D4E3"
           },
           "yaxis": {
            "backgroundcolor": "rgb(17,17,17)",
            "gridcolor": "#506784",
            "gridwidth": 2,
            "linecolor": "#506784",
            "showbackground": true,
            "ticks": "",
            "zerolinecolor": "#C8D4E3"
           },
           "zaxis": {
            "backgroundcolor": "rgb(17,17,17)",
            "gridcolor": "#506784",
            "gridwidth": 2,
            "linecolor": "#506784",
            "showbackground": true,
            "ticks": "",
            "zerolinecolor": "#C8D4E3"
           }
          },
          "shapedefaults": {
           "line": {
            "color": "#f2f5fa"
           }
          },
          "sliderdefaults": {
           "bgcolor": "#C8D4E3",
           "bordercolor": "rgb(17,17,17)",
           "borderwidth": 1,
           "tickwidth": 0
          },
          "ternary": {
           "aaxis": {
            "gridcolor": "#506784",
            "linecolor": "#506784",
            "ticks": ""
           },
           "baxis": {
            "gridcolor": "#506784",
            "linecolor": "#506784",
            "ticks": ""
           },
           "bgcolor": "rgb(17,17,17)",
           "caxis": {
            "gridcolor": "#506784",
            "linecolor": "#506784",
            "ticks": ""
           }
          },
          "title": {
           "x": 0.05
          },
          "updatemenudefaults": {
           "bgcolor": "#506784",
           "borderwidth": 0
          },
          "xaxis": {
           "automargin": true,
           "gridcolor": "#283442",
           "linecolor": "#506784",
           "ticks": "",
           "title": {
            "standoff": 15
           },
           "zerolinecolor": "#283442",
           "zerolinewidth": 2
          },
          "yaxis": {
           "automargin": true,
           "gridcolor": "#283442",
           "linecolor": "#506784",
           "ticks": "",
           "title": {
            "standoff": 15
           },
           "zerolinecolor": "#283442",
           "zerolinewidth": 2
          }
         }
        },
        "title": {
         "text": "Environmental Variables at Station 62149 (48-Hour Period)"
        },
        "width": 1000,
        "xaxis": {
         "anchor": "y",
         "autorange": true,
         "domain": [
          0,
          1
         ],
         "matches": "x3",
         "range": [
          "2025-05-27 23:00",
          "2025-05-28 23:00"
         ],
         "showticklabels": false,
         "type": "date"
        },
        "xaxis2": {
         "anchor": "y2",
         "autorange": true,
         "domain": [
          0,
          1
         ],
         "matches": "x3",
         "range": [
          "2025-05-27 23:00",
          "2025-05-28 23:00"
         ],
         "showticklabels": false,
         "type": "date"
        },
        "xaxis3": {
         "anchor": "y3",
         "autorange": true,
         "domain": [
          0,
          1
         ],
         "range": [
          "2025-05-27 23:00",
          "2025-05-28 23:00"
         ],
         "title": {
          "text": "Date"
         },
         "type": "date"
        },
        "yaxis": {
         "anchor": "x",
         "autorange": true,
         "domain": [
          0.7777777777777778,
          1
         ],
         "range": [
          0.6555555555555554,
          7.544444444444444
         ],
         "title": {
          "text": "Wind Speed (m/s)"
         },
         "type": "linear"
        },
        "yaxis2": {
         "anchor": "x2",
         "autorange": true,
         "domain": [
          0.3888888888888889,
          0.6111111111111112
         ],
         "range": [
          0.28888888888888886,
          0.5111111111111111
         ],
         "title": {
          "text": "Wave Height (m)"
         },
         "type": "linear"
        },
        "yaxis3": {
         "anchor": "x3",
         "autorange": true,
         "domain": [
          0,
          0.22222222222222224
         ],
         "range": [
          10.755555555555555,
          17.644444444444446
         ],
         "title": {
          "text": "Air Temperature (°C)"
         },
         "type": "linear"
        }
       }
      },
      "image/png": "[encoded data removed]",
      "text/html": [
       "<div>                            <div id=\"5d567a42-b644-4eb3-b30a-317675b771eb\" class=\"plotly-graph-div\" style=\"height:800px; width:1000px;\"></div>            <script type=\"text/javascript\">                require([\"plotly\"], function(Plotly) {                    window.PLOTLYENV=window.PLOTLYENV || {};                                    if (document.getElementById(\"5d567a42-b644-4eb3-b30a-317675b771eb\")) {                    Plotly.newPlot(                        \"5d567a42-b644-4eb3-b30a-317675b771eb\",                        [{\"mode\":\"lines\",\"name\":\"Wind Speed\",\"x\":[\"2025-05-28T23:00:00\",\"2025-05-28T22:00:00\",\"2025-05-28T21:00:00\",\"2025-05-28T20:00:00\",\"2025-05-28T19:00:00\",\"2025-05-28T18:00:00\",\"2025-05-28T17:00:00\",\"2025-05-28T16:00:00\",\"2025-05-28T15:00:00\",\"2025-05-28T14:00:00\",\"2025-05-28T13:00:00\",\"2025-05-28T12:00:00\",\"2025-05-28T11:00:00\",\"2025-05-28T10:00:00\",\"2025-05-28T09:00:00\",\"2025-05-28T08:00:00\",\"2025-05-28T07:00:00\",\"2025-05-28T06:00:00\",\"2025-05-28T05:00:00\",\"2025-05-28T04:00:00\",\"2025-05-28T03:00:00\",\"2025-05-28T02:00:00\",\"2025-05-28T01:00:00\",\"2025-05-28T00:00:00\",\"2025-05-27T23:00:00\"],\"y\":[7.2,6.7,5.1,4.6,4.1,2.6,1.0,1.0,1.0,3.1,4.1,4.1,4.1,4.6,4.6,4.1,4.1,3.6,3.1,3.1,3.6,3.6,3.6,3.1,3.1],\"type\":\"scatter\",\"xaxis\":\"x\",\"yaxis\":\"y\"},{\"mode\":\"lines\",\"name\":\"Wave Height\",\"x\":[\"2025-05-28T23:00:00\",\"2025-05-28T22:00:00\",\"2025-05-28T21:00:00\",\"2025-05-28T20:00:00\",\"2025-05-28T19:00:00\",\"2025-05-28T18:00:00\",\"2025-05-28T17:00:00\",\"2025-05-28T16:00:00\",\"2025-05-28T15:00:00\",\"2025-05-28T14:00:00\",\"2025-05-28T13:00:00\",\"2025-05-28T12:00:00\",\"2025-05-28T11:00:00\",\"2025-05-28T10:00:00\",\"2025-05-28T09:00:00\",\"2025-05-28T08:00:00\",\"2025-05-28T07:00:00\",\"2025-05-28T06:00:00\",\"2025-05-28T05:00:00\",\"2025-05-28T04:00:00\",\"2025-05-28T03:00:00\",\"2025-05-28T02:00:00\",\"2025-05-28T01:00:00\",\"2025-05-28T00:00:00\",\"2025-05-27T23:00:00\"],\"y\":[0.4,0.4,0.4,0.4,0.3,0.5,0.4,0.4,0.4,0.4,0.4,0.5,0.4,0.5,0.5,0.5,0.5,0.5,0.4,0.5,0.5,0.5,0.5,0.5,0.5],\"type\":\"scatter\",\"xaxis\":\"x2\",\"yaxis\":\"y2\"},{\"mode\":\"lines\",\"name\":\"Air Temperature\",\"x\":[\"2025-05-28T23:00:00\",\"2025-05-28T22:00:00\",\"2025-05-28T21:00:00\",\"2025-05-28T20:00:00\",\"2025-05-28T19:00:00\",\"2025-05-28T18:00:00\",\"2025-05-28T17:00:00\",\"2025-05-28T16:00:00\",\"2025-05-28T15:00:00\",\"2025-05-28T14:00:00\",\"2025-05-28T13:00:00\",\"2025-05-28T12:00:00\",\"2025-05-28T11:00:00\",\"2025-05-28T10:00:00\",\"2025-05-28T09:00:00\",\"2025-05-28T08:00:00\",\"2025-05-28T07:00:00\",\"2025-05-28T06:00:00\",\"2025-05-28T05:00:00\",\"2025-05-28T04:00:00\",\"2025-05-28T03:00:00\",\"2025-05-28T02:00:00\",\"2025-05-28T01:00:00\",\"2025-05-28T00:00:00\",\"2025-05-27T23:00:00\"],\"y\":[12.5,11.9,11.8,11.8,11.8,12.3,13.4,14.2,14.3,15.6,16.1,17.3,16.8,15.6,14.6,13.4,12.1,11.5,11.4,11.2,11.2,11.2,11.1,11.2,11.3],\"type\":\"scatter\",\"xaxis\":\"x3\",\"yaxis\":\"y3\"}],                        {\"template\":{\"data\":{\"barpolar\":[{\"marker\":{\"line\":{\"color\":\"rgb(17,17,17)\",\"width\":0.5},\"pattern\":{\"fillmode\":\"overlay\",\"size\":10,\"solidity\":0.2}},\"type\":\"barpolar\"}],\"bar\":[{\"error_x\":{\"color\":\"#f2f5fa\"},\"error_y\":{\"color\":\"#f2f5fa\"},\"marker\":{\"line\":{\"color\":\"rgb(17,17,17)\",\"width\":0.5},\"pattern\":{\"fillmode\":\"overlay\",\"size\":10,\"solidity\":0.2}},\"type\":\"bar\"}],\"carpet\":[{\"aaxis\":{\"endlinecolor\":\"#A2B1C6\",\"gridcolor\":\"#506784\",\"linecolor\":\"#506784\",\"minorgridcolor\":\"#506784\",\"startlinecolor\":\"#A2B1C6\"},\"baxis\":{\"endlinecolor\":\"#A2B1C6\",\"gridcolor\":\"#506784\",\"linecolor\":\"#506784\",\"minorgridcolor\":\"#506784\",\"startlinecolor\":\"#A2B1C6\"},\"type\":\"carpet\"}],\"choropleth\":[{\"colorbar\":{\"outlinewidth\":0,\"ticks\":\"\"},\"type\":\"choropleth\"}],\"contourcarpet\":[{\"colorbar\":{\"outlinewidth\":0,\"ticks\":\"\"},\"type\":\"contourcarpet\"}],\"contour\":[{\"colorbar\":{\"outlinewidth\":0,\"ticks\":\"\"},\"colorscale\":[[0.0,\"#0d0887\"],[0.1111111111111111,\"#46039f\"],[0.2222222222222222,\"#7201a8\"],[0.3333333333333333,\"#9c179e\"],[0.4444444444444444,\"#bd3786\"],[0.5555555555555556,\"#d8576b\"],[0.6666666666666666,\"#ed7953\"],[0.7777777777777778,\"#fb9f3a\"],[0.8888888888888888,\"#fdca26\"],[1.0,\"#f0f921\"]],\"type\":\"contour\"}],\"heatmapgl\":[{\"colorbar\":{\"outlinewidth\":0,\"ticks\":\"\"},\"colorscale\":[[0.0,\"#0d0887\"],[0.1111111111111111,\"#46039f\"],[0.2222222222222222,\"#7201a8\"],[0.3333333333333333,\"#9c179e\"],[0.4444444444444444,\"#bd3786\"],[0.5555555555555556,\"#d8576b\"],[0.6666666666666666,\"#ed7953\"],[0.7777777777777778,\"#fb9f3a\"],[0.8888888888888888,\"#fdca26\"],[1.0,\"#f0f921\"]],\"type\":\"heatmapgl\"}],\"heatmap\":[{\"colorbar\":{\"outlinewidth\":0,\"ticks\":\"\"},\"colorscale\":[[0.0,\"#0d0887\"],[0.1111111111111111,\"#46039f\"],[0.2222222222222222,\"#7201a8\"],[0.3333333333333333,\"#9c179e\"],[0.4444444444444444,\"#bd3786\"],[0.5555555555555556,\"#d8576b\"],[0.6666666666666666,\"#ed7953\"],[0.7777777777777778,\"#fb9f3a\"],[0.8888888888888888,\"#fdca26\"],[1.0,\"#f0f921\"]],\"type\":\"heatmap\"}],\"histogram2dcontour\":[{\"colorbar\":{\"outlinewidth\":0,\"ticks\":\"\"},\"colorscale\":[[0.0,\"#0d0887\"],[0.1111111111111111,\"#46039f\"],[0.2222222222222222,\"#7201a8\"],[0.3333333333333333,\"#9c179e\"],[0.4444444444444444,\"#bd3786\"],[0.5555555555555556,\"#d8576b\"],[0.6666666666666666,\"#ed7953\"],[0.7777777777777778,\"#fb9f3a\"],[0.8888888888888888,\"#fdca26\"],[1.0,\"#f0f921\"]],\"type\":\"histogram2dcontour\"}],\"histogram2d\":[{\"colorbar\":{\"outlinewidth\":0,\"ticks\":\"\"},\"colorscale\":[[0.0,\"#0d0887\"],[0.1111111111111111,\"#46039f\"],[0.2222222222222222,\"#7201a8\"],[0.3333333333333333,\"#9c179e\"],[0.4444444444444444,\"#bd3786\"],[0.5555555555555556,\"#d8576b\"],[0.6666666666666666,\"#ed7953\"],[0.7777777777777778,\"#fb9f3a\"],[0.8888888888888888,\"#fdca26\"],[1.0,\"#f0f921\"]],\"type\":\"histogram2d\"}],\"histogram\":[{\"marker\":{\"pattern\":{\"fillmode\":\"overlay\",\"size\":10,\"solidity\":0.2}},\"type\":\"histogram\"}],\"mesh3d\":[{\"colorbar\":{\"outlinewidth\":0,\"ticks\":\"\"},\"type\":\"mesh3d\"}],\"parcoords\":[{\"line\":{\"colorbar\":{\"outlinewidth\":0,\"ticks\":\"\"}},\"type\":\"parcoords\"}],\"pie\":[{\"automargin\":true,\"type\":\"pie\"}],\"scatter3d\":[{\"line\":{\"colorbar\":{\"outlinewidth\":0,\"ticks\":\"\"}},\"marker\":{\"colorbar\":{\"outlinewidth\":0,\"ticks\":\"\"}},\"type\":\"scatter3d\"}],\"scattercarpet\":[{\"marker\":{\"colorbar\":{\"outlinewidth\":0,\"ticks\":\"\"}},\"type\":\"scattercarpet\"}],\"scattergeo\":[{\"marker\":{\"colorbar\":{\"outlinewidth\":0,\"ticks\":\"\"}},\"type\":\"scattergeo\"}],\"scattergl\":[{\"marker\":{\"line\":{\"color\":\"#283442\"}},\"type\":\"scattergl\"}],\"scattermapbox\":[{\"marker\":{\"colorbar\":{\"outlinewidth\":0,\"ticks\":\"\"}},\"type\":\"scattermapbox\"}],\"scatterpolargl\":[{\"marker\":{\"colorbar\":{\"outlinewidth\":0,\"ticks\":\"\"}},\"type\":\"scatterpolargl\"}],\"scatterpolar\":[{\"marker\":{\"colorbar\":{\"outlinewidth\":0,\"ticks\":\"\"}},\"type\":\"scatterpolar\"}],\"scatter\":[{\"marker\":{\"line\":{\"color\":\"#283442\"}},\"type\":\"scatter\"}],\"scatterternary\":[{\"marker\":{\"colorbar\":{\"outlinewidth\":0,\"ticks\":\"\"}},\"type\":\"scatterternary\"}],\"surface\":[{\"colorbar\":{\"outlinewidth\":0,\"ticks\":\"\"},\"colorscale\":[[0.0,\"#0d0887\"],[0.1111111111111111,\"#46039f\"],[0.2222222222222222,\"#7201a8\"],[0.3333333333333333,\"#9c179e\"],[0.4444444444444444,\"#bd3786\"],[0.5555555555555556,\"#d8576b\"],[0.6666666666666666,\"#ed7953\"],[0.7777777777777778,\"#fb9f3a\"],[0.8888888888888888,\"#fdca26\"],[1.0,\"#f0f921\"]],\"type\":\"surface\"}],\"table\":[{\"cells\":{\"fill\":{\"color\":\"#506784\"},\"line\":{\"color\":\"rgb(17,17,17)\"}},\"header\":{\"fill\":{\"color\":\"#2a3f5f\"},\"line\":{\"color\":\"rgb(17,17,17)\"}},\"type\":\"table\"}]},\"layout\":{\"annotationdefaults\":{\"arrowcolor\":\"#f2f5fa\",\"arrowhead\":0,\"arrowwidth\":1},\"autotypenumbers\":\"strict\",\"coloraxis\":{\"colorbar\":{\"outlinewidth\":0,\"ticks\":\"\"}},\"colorscale\":{\"diverging\":[[0,\"#8e0152\"],[0.1,\"#c51b7d\"],[0.2,\"#de77ae\"],[0.3,\"#f1b6da\"],[0.4,\"#fde0ef\"],[0.5,\"#f7f7f7\"],[0.6,\"#e6f5d0\"],[0.7,\"#b8e186\"],[0.8,\"#7fbc41\"],[0.9,\"#4d9221\"],[1,\"#276419\"]],\"sequential\":[[0.0,\"#0d0887\"],[0.1111111111111111,\"#46039f\"],[0.2222222222222222,\"#7201a8\"],[0.3333333333333333,\"#9c179e\"],[0.4444444444444444,\"#bd3786\"],[0.5555555555555556,\"#d8576b\"],[0.6666666666666666,\"#ed7953\"],[0.7777777777777778,\"#fb9f3a\"],[0.8888888888888888,\"#fdca26\"],[1.0,\"#f0f921\"]],\"sequentialminus\":[[0.0,\"#0d0887\"],[0.1111111111111111,\"#46039f\"],[0.2222222222222222,\"#7201a8\"],[0.3333333333333333,\"#9c179e\"],[0.4444444444444444,\"#bd3786\"],[0.5555555555555556,\"#d8576b\"],[0.6666666666666666,\"#ed7953\"],[0.7777777777777778,\"#fb9f3a\"],[0.8888888888888888,\"#fdca26\"],[1.0,\"#f0f921\"]]},\"colorway\":[\"#636efa\",\"#EF553B\",\"#00cc96\",\"#ab63fa\",\"#FFA15A\",\"#19d3f3\",\"#FF6692\",\"#B6E880\",\"#FF97FF\",\"#FECB52\"],\"font\":{\"color\":\"#f2f5fa\"},\"geo\":{\"bgcolor\":\"rgb(17,17,17)\",\"lakecolor\":\"rgb(17,17,17)\",\"landcolor\":\"rgb(17,17,17)\",\"showlakes\":true,\"showland\":true,\"subunitcolor\":\"#506784\"},\"hoverlabel\":{\"align\":\"left\"},\"hovermode\":\"closest\",\"mapbox\":{\"style\":\"dark\"},\"paper_bgcolor\":\"rgb(17,17,17)\",\"plot_bgcolor\":\"rgb(17,17,17)\",\"polar\":{\"angularaxis\":{\"gridcolor\":\"#506784\",\"linecolor\":\"#506784\",\"ticks\":\"\"},\"bgcolor\":\"rgb(17,17,17)\",\"radialaxis\":{\"gridcolor\":\"#506784\",\"linecolor\":\"#506784\",\"ticks\":\"\"}},\"scene\":{\"xaxis\":{\"backgroundcolor\":\"rgb(17,17,17)\",\"gridcolor\":\"#506784\",\"gridwidth\":2,\"linecolor\":\"#506784\",\"showbackground\":true,\"ticks\":\"\",\"zerolinecolor\":\"#C8D4E3\"},\"yaxis\":{\"backgroundcolor\":\"rgb(17,17,17)\",\"gridcolor\":\"#506784\",\"gridwidth\":2,\"linecolor\":\"#506784\",\"showbackground\":true,\"ticks\":\"\",\"zerolinecolor\":\"#C8D4E3\"},\"zaxis\":{\"backgroundcolor\":\"rgb(17,17,17)\",\"gridcolor\":\"#506784\",\"gridwidth\":2,\"linecolor\":\"#506784\",\"showbackground\":true,\"ticks\":\"\",\"zerolinecolor\":\"#C8D4E3\"}},\"shapedefaults\":{\"line\":{\"color\":\"#f2f5fa\"}},\"sliderdefaults\":{\"bgcolor\":\"#C8D4E3\",\"bordercolor\":\"rgb(17,17,17)\",\"borderwidth\":1,\"tickwidth\":0},\"ternary\":{\"aaxis\":{\"gridcolor\":\"#506784\",\"linecolor\":\"#506784\",\"ticks\":\"\"},\"baxis\":{\"gridcolor\":\"#506784\",\"linecolor\":\"#506784\",\"ticks\":\"\"},\"bgcolor\":\"rgb(17,17,17)\",\"caxis\":{\"gridcolor\":\"#506784\",\"linecolor\":\"#506784\",\"ticks\":\"\"}},\"title\":{\"x\":0.05},\"updatemenudefaults\":{\"bgcolor\":\"#506784\",\"borderwidth\":0},\"xaxis\":{\"automargin\":true,\"gridcolor\":\"#283442\",\"linecolor\":\"#506784\",\"ticks\":\"\",\"title\":{\"standoff\":15},\"zerolinecolor\":\"#283442\",\"zerolinewidth\":2},\"yaxis\":{\"automargin\":true,\"gridcolor\":\"#283442\",\"linecolor\":\"#506784\",\"ticks\":\"\",\"title\":{\"standoff\":15},\"zerolinecolor\":\"#283442\",\"zerolinewidth\":2}}},\"xaxis\":{\"anchor\":\"y\",\"domain\":[0.0,1.0],\"matches\":\"x3\",\"showticklabels\":false},\"yaxis\":{\"anchor\":\"x\",\"domain\":[0.7777777777777778,1.0],\"title\":{\"text\":\"Wind Speed (m\\u002fs)\"}},\"xaxis2\":{\"anchor\":\"y2\",\"domain\":[0.0,1.0],\"matches\":\"x3\",\"showticklabels\":false},\"yaxis2\":{\"anchor\":\"x2\",\"domain\":[0.3888888888888889,0.6111111111111112],\"title\":{\"text\":\"Wave Height (m)\"}},\"xaxis3\":{\"anchor\":\"y3\",\"domain\":[0.0,1.0],\"title\":{\"text\":\"Date\"}},\"yaxis3\":{\"anchor\":\"x3\",\"domain\":[0.0,0.22222222222222224],\"title\":{\"text\":\"Air Temperature (°C)\"}},\"annotations\":[{\"font\":{\"size\":16},\"showarrow\":false,\"text\":\"Wind Speed (m\\u002fs)\",\"x\":0.5,\"xanchor\":\"center\",\"xref\":\"paper\",\"y\":1.0,\"yanchor\":\"bottom\",\"yref\":\"paper\"},{\"font\":{\"size\":16},\"showarrow\":false,\"text\":\"Wave Height (m)\",\"x\":0.5,\"xanchor\":\"center\",\"xref\":\"paper\",\"y\":0.6111111111111112,\"yanchor\":\"bottom\",\"yref\":\"paper\"},{\"font\":{\"size\":16},\"showarrow\":false,\"text\":\"Air Temperature (°C)\",\"x\":0.5,\"xanchor\":\"center\",\"xref\":\"paper\",\"y\":0.22222222222222224,\"yanchor\":\"bottom\",\"yref\":\"paper\"}],\"height\":800,\"width\":1000,\"title\":{\"text\":\"Environmental Variables at Station 62149 (48-Hour Period)\"}},                        {\"responsive\": true}                    ).then(function(){\n",
       "                            \n",
       "var gd = document.getElementById('5d567a42-b644-4eb3-b30a-317675b771eb');\n",
       "var x = new MutationObserver(function (mutations, observer) {{\n",
       "        var display = window.getComputedStyle(gd).display;\n",
       "        if (!display || display === 'none') {{\n",
       "            console.log([gd, 'removed!']);\n",
       "            Plotly.purge(gd);\n",
       "            observer.disconnect();\n",
       "        }}\n",
       "}});\n",
       "\n",
       "// Listen for the removal of the full notebook cells\n",
       "var notebookContainer = gd.closest('#notebook-container');\n",
       "if (notebookContainer) {{\n",
       "    x.observe(notebookContainer, {childList: true});\n",
       "}}\n",
       "\n",
       "// Listen for the clearing of the current output cell\n",
       "var outputEl = gd.closest('.output');\n",
       "if (outputEl) {{\n",
       "    x.observe(outputEl, {childList: true});\n",
       "}}\n",
       "\n",
       "                        })                };                });            </script>        </div>"
      ]
     },
     "metadata": {},
     "output_type": "display_data"
    }
   ],
   "source": [
    "# Create the subplot for all key variables\n",
    "fig = make_subplots(rows=3, cols=1, shared_xaxes=True, subplot_titles=['Wind Speed (m/s)', 'Wave Height (m)', 'Air Temperature (°C)'])\n",
    "\n",
    "# Add wind speed\n",
    "fig.add_trace(go.Scatter(x=df.index, y=df['Wind Speed (m/s)'], mode='lines', name='Wind Speed'), row=1, col=1)\n",
    "\n",
    "# Add wave height\n",
    "fig.add_trace(go.Scatter(x=df.index, y=df['Wave Height (m)'], mode='lines', name='Wave Height'), row=2, col=1)\n",
    "\n",
    "# Add air temperature\n",
    "fig.add_trace(go.Scatter(x=df.index, y=df['Air Temperature (degC)'], mode='lines', name='Air Temperature'), row=3, col=1)\n",
    "\n",
    "# Format layout\n",
    "fig.update_layout(height=800, width=1000, title='Environmental Variables at Station 62149 (48-Hour Period)', template='plotly_dark')\n",
    "fig.update_xaxes(title_text='Date', row=3, col=1)\n",
    "fig.update_yaxes(title_text='Wind Speed (m/s)', row=1, col=1)\n",
    "fig.update_yaxes(title_text='Wave Height (m)', row=2, col=1)\n",
    "fig.update_yaxes(title_text='Air Temperature (°C)', row=3, col=1)\n",
    "\n",
    "fig.show()"
   ]
  },
  {
   "cell_type": "markdown",
   "id": "7f5b1af7-e719-4c3d-aa55-ad191ce8dcc0",
   "metadata": {},
   "source": [
    "## **References**"
   ]
  },
  {
   "cell_type": "markdown",
   "id": "8738c548-22c7-438e-a1ce-753143c827c1",
   "metadata": {},
   "source": [
    "DeVries, T. 2022. The Ocean Carbon Cycle. Annual Review of Environment and Resources. **47**(1). [Online]. [Accessed 18 May 2025]. Available from: https://www.annualreviews.org/content/journals/10.1146/annurev-environ-120920-111307 \n",
    "\n",
    "Diesing, M., Thorsnes, T. and Bjarnadóttir, L.R. 2021. Organic carbon densities and accumulation rates in surface sediments of the North Sea and Skagerrak. Biogeosciences. **18**(6), pp.2139–2160. [Online]. [Accessed 18 May 2025]. Available from: https://bg.copernicus.org/articles/18/2139/2021/\n",
    "\n",
    "Macreadie, P. and Hardy, S. 2018. Response of Seagrass ‘Blue Carbon’ Stocks to Increased Water Temperatures. Diversity. **10**(4), p.115. [Online]. [Accessed 19 May 2025]. Available from: https://www.mdpi.com/1424-2818/10/4/115#:~:text=Seagrass%20meadows%20are%20globally%20important%20sinks%20of%20%E2%80%98Blue,capacity%20to%20sequester%20and%20retain%20organic%20carbon%20%28Corg%29 \n",
    "\n",
    "Shutler, J.D., Holding, T., Ubelmann, C., Gaultier, L., Collard, F., Ardhuin, F., Chapron, B., Rio, M.-H. and Donlon, C. 2019. Wind, wave and current interactions appear key for quantifying cross-shelf transport and carbon export; new knowledge and the potential of SKIM to enable monitoring. arXiv (Cornell University). [Online]. [Accessed 18 May 2025]. Available from: https://arxiv.org/abs/1905.08687"
   ]
  }
 ],
 "metadata": {
  "kernelspec": {
   "display_name": "Python 3 (ipykernel)",
   "language": "python",
   "name": "python3"
  },
  "language_info": {
   "codemirror_mode": {
    "name": "ipython",
    "version": 3
   },
   "file_extension": ".py",
   "mimetype": "text/x-python",
   "name": "python",
   "nbconvert_exporter": "python",
   "pygments_lexer": "ipython3",
   "version": "3.11.9"
  }
 },
 "nbformat": 4,
 "nbformat_minor": 5
}
